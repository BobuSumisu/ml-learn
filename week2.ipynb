{
 "cells": [
  {
   "cell_type": "markdown",
   "metadata": {},
   "source": [
    "# Week 2\n",
    "\n",
    "## Linear Regression with Multiple Variables\n",
    "\n",
    "Aka *multivariate* linear regression.\n",
    "\n",
    "### Hypothesis\n",
    "\n",
    "Multivariate form of the hypothesis:\n",
    "\n",
    "$$h_\\theta(x) = \\theta_0 + \\theta_1 x_1 + \\theta_2 x_2 + \\cdots + \\theta_n x_n$$\n",
    "\n",
    "Let introduce $x^{(i)}_0 = 1$ for every $i \\in 1,…,n$. We can then write the hypothesis as:\n",
    "\n",
    "$$h_\\theta(x) = \\theta_0 x_0 + \\theta_1 x_1 + \\cdots + \\theta_n x_n$$.\n",
    "\n",
    "Now we can use matrix multiplication to concisely represent the hypothesis as:\n",
    "\n",
    "$$h_\\theta(x) = \\begin{bmatrix} \\theta_0 & \\theta_1 & \\ldots & \\theta_n \\end{bmatrix} \\begin{bmatrix} x_0 \\\\ x_1 \\\\ \\ldots \\\\ x_n \\end{bmatrix} = \\theta^T x$$\n",
    "\n",
    "\n",
    "Note: this was the formula in the lesson, but surely $x$ is a row vector? Well, if we keep $\\theta$ as a column vector we can simply use:\n",
    "\n",
    "$$h_\\theta(x) = \\begin{bmatrix} x_0 & x_1 & \\ldots & x_n \\end{bmatrix} \\begin{bmatrix} \\theta_0 \\\\ \\theta_1 \\\\ \\ldots \\\\ \\theta_n \\end{bmatrix} = x\\theta$$\n",
    "\n",
    "Given the training data as a matrix:\n",
    "\n",
    "$$ X = \\begin{bmatrix} x^{(1)}_0 & x^{(1)}_1 \\\\ x^{(2)}_0 & x^{(2)}_1 \\\\ x^{(3)}_0 & x^{(3)}_1 \\end{bmatrix} $$\n",
    "\n",
    "And theta $\\theta = \\begin{bmatrix} \\theta_0 \\\\ \\theta_1 \\end{bmatrix}$\n",
    "\n",
    "We can compute the hypothesis as a column vector of size $m \\times 1$ with:\n",
    "\n",
    "$$ h_\\theta(X) = X\\theta $$"
   ]
  },
  {
   "cell_type": "code",
   "execution_count": 255,
   "metadata": {},
   "outputs": [
    {
     "name": "stdout",
     "output_type": "stream",
     "text": [
      "h_theta(x^(1)) = 1.000000\n",
      "h_theta(x^(2)) = 2.000000\n",
      "h_theta(x^(3)) = 3.000000\n",
      "h_theta(x^(4)) = 4.000000\n",
      "h_theta(X) = \n",
      "1.000000\n",
      "2.000000\n",
      "3.000000\n",
      "4.000000\n"
     ]
    }
   ],
   "source": [
    "data = [0 4; 1 7; 2 7; 3 8];\n",
    "\n",
    "X = data(:, 1);\n",
    "y = data(:, 2);\n",
    "m = length(y);\n",
    "theta = [1; 1];\n",
    "\n",
    "% Add the x_0 column\n",
    "X = [ ones(m, 1), X ];\n",
    "\n",
    "h = @(theta, X) X * theta;\n",
    "\n",
    "% Calculate hypothesis one row at a time.\n",
    "for i = 1:4\n",
    "    fprintf(\"h_theta(x^(%d)) = %f\\n\", i, X(i, :) * theta);\n",
    "end\n",
    "\n",
    "% Calculate the hypothesis for all rows at once.\n",
    "fprintf(\"h_theta(X) = \\n\");\n",
    "fprintf(\"%f\\n\", h(theta, X));"
   ]
  },
  {
   "cell_type": "markdown",
   "metadata": {},
   "source": [
    "### Cost Function\n",
    "\n",
    "The cost function\n",
    "\n",
    "$$ J(\\theta) = \\frac{1}{2m} \\sum_{i=1}^{m} \\big( h_\\theta(x^{(i)}) - y^{(i)} \\big)^2$$\n",
    "\n",
    "The vectorized version is\n",
    "\n",
    "$$ J(\\theta) = \\frac{1}{2m} (X\\theta - \\vec{y})^T (X\\theta - \\vec{y}) $$\n",
    "\n",
    "Where $\\vec{y}$ denotes the vector of all $y$'s."
   ]
  },
  {
   "cell_type": "code",
   "execution_count": 256,
   "metadata": {},
   "outputs": [
    {
     "name": "stdout",
     "output_type": "stream",
     "text": [
      "ans =  0.22527\n"
     ]
    }
   ],
   "source": [
    "% theta found by gradient descent in week1. Expected cost ~0.225275.\n",
    "theta = [ 4.661084; 1.218227 ];\n",
    "\n",
    "function cost = J(theta, X, y)\n",
    "    m = length(y);\n",
    "    cost = (1 / (2 * m)) * (X * theta - y)' * (X * theta - y);\n",
    "end\n",
    "\n",
    "J(theta, X, y)"
   ]
  },
  {
   "cell_type": "markdown",
   "metadata": {},
   "source": [
    "### Gradient Descent\n",
    "\n",
    "The gradient descent rule can be expressed as:\n",
    "\n",
    "$$ \\theta := \\theta - \\alpha \\nabla J(\\theta) $$\n",
    "\n",
    "Where $\\nabla J(\\theta)$ is a column vector on the form:\n",
    "\n",
    "$$ \\nabla J(\\theta) = \\begin{bmatrix} \\frac{\\partial J(\\theta)}{\\partial \\theta_0} \\\\ \\frac{\\partial J(\\theta)}{\\partial \\theta_1} \\\\ \\vdots \\\\ \\frac{\\partial J(\\theta)}{\\partial \\theta_n} \\\\ \\end{bmatrix} $$\n",
    "\n",
    "The $j$-th component of the gradient is the summation of the product of two terms:\n",
    "\n",
    "$$ \\frac{\\partial J(\\theta)}{\\partial \\theta_j} = \\frac{1}{m} \\sum_{i=1}^{m} \\big( h_\\theta(x^{(i)}) - y^{(i)} \\big) x^{(i)}_j$$\n",
    "\n",
    "Summation of the product of two terms can often be expressed as a product of two vectors.\n",
    "\n",
    "Here $x^{(i)}_j$ for $i = 1,\\ldots,m$ represents the $m$ elements of the $j$-th column, $\\vec{x_j}$, of the training set $X$.\n",
    "\n",
    "The other term $\\big( h_\\theta(x^{(i)}) - y^{(i)} \\big)$ is the vector of the deviations between the predictions $h_\\theta(x^{(i)})$ and the output values $y^{(i)}$.\n",
    "\n",
    "Rewriting gives us:\n",
    "\n",
    "$$ \\frac{\\partial J(\\theta)}{\\partial \\theta_j} = \\frac{1}{m} \\vec{x_j}^T (X\\theta - \\vec{y}) $$\n",
    "\n",
    "Thus\n",
    "\n",
    "$$ \\nabla J(\\theta) = \\frac{1}{m} X^T (X\\theta - \\vec{y}) $$\n",
    "\n",
    "Finally this gives us the vectorized version of the gradient descent rule:\n",
    "\n",
    "$$ \\theta := \\theta - \\tfrac{\\alpha}{m} X^T (X\\theta - \\vec{y}) $$\n",
    "\n",
    "Yea, kind of confusing, but we got the matrix formula."
   ]
  },
  {
   "cell_type": "code",
   "execution_count": 257,
   "metadata": {},
   "outputs": [
    {
     "name": "stdout",
     "output_type": "stream",
     "text": [
      "theta =\n",
      "\n",
      "   4.6611\n",
      "   1.2182\n",
      "\n"
     ]
    }
   ],
   "source": [
    "% Doing the same as in week1.\n",
    "iterations = 1500;\n",
    "alpha = 0.01;\n",
    "\n",
    "function theta = gradientDescent(theta, X, y, alpha, iterations)\n",
    "    m = length(y);\n",
    "    for i = 1:1500 \n",
    "        theta = theta - (alpha / m) * X' * (X * theta - y);\n",
    "    end\n",
    "end\n",
    "\n",
    "% Expecting theta [ 4.661084; 1.218227 ]\n",
    "theta = gradientDescent([0; 0], X, y, alpha, iterations)"
   ]
  },
  {
   "cell_type": "markdown",
   "metadata": {},
   "source": [
    "## Feature Normalization\n",
    "\n",
    "Speed up gradient descent by having each of the input values *roughly* in the same range.\n",
    "\n",
    "Ideally $-1 \\le x_{(i)} \\le 1$ or $-0.5 \\le x_{(i)} \\le 0.5$.\n",
    "\n",
    "Two techniques to achieve this\n",
    "- feature scaling (divide input values by the range)\n",
    "- mean normalization (subtract average value)\n",
    "\n",
    "Adjust input values according to the formula:\n",
    "\n",
    "$$ x_i := \\frac{x_i - \\mu_i}{s_i} $$\n",
    "\n",
    "Where $\\mu_i$ is the average of all values for feature $i$ and $s_i$ is the range (max - min), or the standard deviation."
   ]
  },
  {
   "cell_type": "code",
   "execution_count": 261,
   "metadata": {},
   "outputs": [
    {
     "name": "stdout",
     "output_type": "stream",
     "text": [
      "data_norm =\n",
      "\n",
      "  -0.50000  -0.62500\n",
      "  -0.16667   0.12500\n",
      "   0.16667   0.12500\n",
      "   0.50000   0.37500\n",
      "\n"
     ]
    }
   ],
   "source": [
    "featureNormalize = @(X) (X - mean(X)) ./ (max(X) - min(X));\n",
    "\n",
    "data_norm = featureNormalize(data)\n",
    "y_norm = data_norm(:, 2);"
   ]
  },
  {
   "cell_type": "markdown",
   "metadata": {},
   "source": [
    "## Polynomial Regression\n",
    "\n",
    "We can improve the form of our hypothesis function in a couple of different ways.\n",
    "\n",
    "We can **combine** multiple features into one, for example combining $x_1$ and $x_2$ into $x_3$ by taking $x_1x_2$.\n",
    "\n",
    "The hypothesis function does not need to be linear either. We can make it quadratic, cubic or square root (or any other form).\n",
    "\n",
    "For example, if the hypothesis is $h_\\theta(x) = \\theta_0 + \\theta_1 x_1$, then we can create additional features based on $x_1$. To get a quadratic function: $h_\\theta(x) = \\theta_0 + \\theta_1 x_1 + \\theta_2 x_1^2$."
   ]
  },
  {
   "cell_type": "code",
   "execution_count": 262,
   "metadata": {},
   "outputs": [
    {
     "name": "stdout",
     "output_type": "stream",
     "text": [
      "ans =  0.012551\n"
     ]
    }
   ],
   "source": [
    "X_2 = [ ones(m, 1), data_norm(:, 1), data_norm(:, 1).^2 ];\n",
    "theta_2 = gradientDescent([0; 0; 0], X_2, y_norm, alpha, iterations);\n",
    "J(theta_2, X_2, y_norm)"
   ]
  },
  {
   "cell_type": "markdown",
   "metadata": {},
   "source": [
    "Looks like a better fit!"
   ]
  },
  {
   "cell_type": "code",
   "execution_count": 263,
   "metadata": {},
   "outputs": [
    {
     "data": {
      "image/png": "[encoded data removed]",
      "text/plain": [
       "<IPython.core.display.Image object>"
      ]
     },
     "metadata": {},
     "output_type": "display_data"
    }
   ],
   "source": [
    "plot(data_norm(:, 1), data_norm(:, 2), 'rx');\n",
    "hold on;\n",
    "plot(data_norm(:, 1), h(theta_2, X_2, y_norm));\n",
    "hold off;"
   ]
  },
  {
   "cell_type": "markdown",
   "metadata": {},
   "source": [
    "Maybe try cubic $h_\\theta(x) = \\theta_0 + \\theta_1 x_1 + \\theta_2 x_1^2 + \\theta_3 x_1^3$."
   ]
  },
  {
   "cell_type": "code",
   "execution_count": 307,
   "metadata": {},
   "outputs": [
    {
     "name": "stdout",
     "output_type": "stream",
     "text": [
      "ans =    2.0136e-04\n"
     ]
    },
    {
     "data": {
      "image/png": "[encoded data removed]",
      "text/plain": [
       "<IPython.core.display.Image object>"
      ]
     },
     "metadata": {},
     "output_type": "display_data"
    }
   ],
   "source": [
    "X_3 = [ ones(m, 1), data_norm(:, 1), data_norm(:, 1).^2, data_norm(:, 1).^3 ];\n",
    "theta_3 = gradientDescent([0; 0; 0; 0], X_3, y_norm, 1.9, 1000000);\n",
    "J(theta_3, X_3, y_norm)\n",
    "plot(data_norm(:, 1), data_norm(:, 2), 'rx')\n",
    "hold on;\n",
    "plot(data_norm(:, 1), h(theta_3, X_3, y_norm));"
   ]
  },
  {
   "cell_type": "markdown",
   "metadata": {},
   "source": [
    "## Normal Equation\n",
    "\n",
    "We can find the optimal theta analytically by the normal equation:\n",
    "\n",
    "$$ \\theta = (X^TX)^{-1}X^Ty $$\n",
    "\n",
    "The normal equation is $\\mathcal{O}(n^3)$ (gradient descent is $\\mathcal{O}(kn^2)$, so the normal equation is much slower when you have many features.\n",
    "\n",
    "Note that the normal equation calculates the inverse of $X^TX$. This matrix may be *noninvertible*, usually because:\n",
    "- Two (or more) features are linearly dependent.\n",
    "- To many features (e.g. $m \\le n$).\n",
    "\n",
    "Solutions to the above problems include deleting linearly dependent features or deleting features if there are too many."
   ]
  },
  {
   "cell_type": "code",
   "execution_count": 308,
   "metadata": {},
   "outputs": [
    {
     "name": "stdout",
     "output_type": "stream",
     "text": [
      "linear h: 0.014062\n",
      "quadratic h: 0.006250\n",
      "cubic h: 0.000000\n"
     ]
    },
    {
     "data": {
      "image/png": "[encoded data removed]",
      "text/plain": [
       "<IPython.core.display.Image object>"
      ]
     },
     "metadata": {},
     "output_type": "display_data"
    }
   ],
   "source": [
    "% Note: use pseudoinverse.\n",
    "normalEquation = @(X, y) pinv(X' * X) * (X' * y);\n",
    "\n",
    "X_1 = [ ones(m, 1), data_norm(:, 1) ];\n",
    "\n",
    "theta_1 = normalEquation(X_1, y_norm);\n",
    "fprintf(\"linear h: %f\\n\", J(theta_1, X_1, y_norm));\n",
    "\n",
    "theta_2 = normalEquation(X_2, y_norm);\n",
    "fprintf(\"quadratic h: %f\\n\", J(theta_2, X_2, y_norm));\n",
    "\n",
    "theta_3 = normalEquation(X_3, y_norm);\n",
    "fprintf(\"cubic h: %f\\n\", J(theta_3, X_3, y_norm));\n",
    "\n",
    "plot(data_norm(:, 1), data_norm(:, 2), 'rx');\n",
    "hold on;\n",
    "plot(data_norm(:, 1), h(theta_1, X_1, y_norm), 'r;linear;');\n",
    "plot(data_norm(:, 1), h(theta_2, X_2, y_norm), 'g;quadratic;');\n",
    "plot(data_norm(:, 1), h(theta_3, X_3, y_norm), 'b;cubic;');\n",
    "hold off;"
   ]
  }
 ],
 "metadata": {
  "kernelspec": {
   "display_name": "Octave",
   "language": "octave",
   "name": "octave"
  },
  "language_info": {
   "file_extension": ".m",
   "help_links": [
    {
     "text": "GNU Octave",
     "url": "https://www.gnu.org/software/octave/support.html"
    },
    {
     "text": "Octave Kernel",
     "url": "https://github.com/Calysto/octave_kernel"
    },
    {
     "text": "MetaKernel Magics",
     "url": "https://github.com/calysto/metakernel/blob/master/metakernel/magics/README.md"
    }
   ],
   "mimetype": "text/x-octave",
   "name": "octave",
   "version": "4.0.3"
  }
 },
 "nbformat": 4,
 "nbformat_minor": 2
}
