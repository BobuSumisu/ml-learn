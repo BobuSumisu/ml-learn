{
 "cells": [
  {
   "cell_type": "markdown",
   "metadata": {},
   "source": [
    "# Week 1\n",
    "\n",
    "## What is Machine Learning?\n",
    "\n",
    "Definition by Arthur Samuel\n",
    "\n",
    "> Machine learning is the field of study that gives computers the ability to learn without being explicitly programmed.\n",
    "\n",
    "Definition by Tom Mitchell\n",
    "\n",
    "> A computer program is said to learn from experience E with respect to some class of tasks T and performance\n",
    "> measure P, if its performance at tasks in T, as measured by P, improves with experience E.\n",
    "\n",
    "In general, any ML problem can be assigned to one of two broad classifications: \n",
    "- Supervised learning\n",
    "- Unsupervised learning\n",
    "\n",
    "### Supervised Learning\n",
    "\n",
    "In supervised learning, we are given a data set and already know what our correct output should look like, having the idea that there is a relationship between the input and output.\n",
    "\n",
    "Supervised learning problems are categorized into:\n",
    "- Regression problems (continuous output)\n",
    "- Classification problems (discrete output)\n",
    "\n",
    "### Unsupervised Learning\n",
    "\n",
    "In unsupervised learning, we approach the problems with little or no idea what our results should look like.\n",
    "\n",
    "## Linear Regression with One Variable\n",
    "\n",
    "Also known as _univariate_ linear regression.\n",
    "\n",
    "Predict a single (continuous) output value y, from a single input value x.\n",
    "\n",
    "### The Hypothesis Function\n",
    "\n",
    "$$\\hat{y} = h_\\theta(x) = \\theta_0 + \\theta_1x$$\n",
    "\n",
    "Note that this is like the equation of a straight line. \n",
    "\n",
    "_Noob Intuition: $\\theta_1$ is kind of the \"weight\" for how much of x influences y. $\\theta_0$ is then the weight of some \"base\" value which is always present._\n",
    "\n",
    "#### Example\n",
    "\n",
    "Given the data\n",
    "\n",
    "| input x | output y |\n",
    "|---------|----------|\n",
    "| 0       | 4        |\n",
    "| 1       | 7        |\n",
    "| 2       | 7        |\n",
    "| 3       | 8        |\n",
    "\n",
    "We can make a random guess $\\theta_0 = 2$ and $\\theta_1 = 2$. The hypothesis then becomes $h_\\theta(x) = 2 + 2x$.\n",
    "\n",
    "For input 1 to our hypothesis, y will be 4. Ths is off by 3."
   ]
  },
  {
   "cell_type": "code",
   "execution_count": 199,
   "metadata": {},
   "outputs": [
    {
     "name": "stdout",
     "output_type": "stream",
     "text": [
      "ans =  4\n"
     ]
    }
   ],
   "source": [
    "data = [ 0 4; 1 7; 2 7; 3 8];\n",
    "theta = [ 2 2 ];\n",
    "\n",
    "function py = h(theta, x)\n",
    "    py = theta(1) + theta(2) * x;\n",
    "end\n",
    "\n",
    "h(theta, 1)"
   ]
  },
  {
   "cell_type": "markdown",
   "metadata": {},
   "source": [
    "We will be trying out different values for $\\theta_0$ and $\\theta_1$ to try to find values which provides the best possible \"fit\", or the most representative \"straight line\" through the data points mapped on the x-y plane."
   ]
  },
  {
   "cell_type": "code",
   "execution_count": 200,
   "metadata": {},
   "outputs": [
    {
     "data": {
      "image/png": "[encoded data removed]",
      "text/plain": [
       "<IPython.core.display.Image object>"
      ]
     },
     "metadata": {},
     "output_type": "display_data"
    }
   ],
   "source": [
    "x = data(:, 1);\n",
    "y = data(:, 2);\n",
    "plot(x, y, \"r.\", \"markersize\", 10);\n",
    "hold on;\n",
    "plot(x, h(theta, x));\n",
    "xlabel(\"x input\");\n",
    "ylabel(\"y output\");\n",
    "hold off;"
   ]
  },
  {
   "cell_type": "markdown",
   "metadata": {},
   "source": [
    "### Cost Function\n",
    "\n",
    "We can measure the accuracy of our hypothesis function using a *cost function*. This take an (fancy) average of all results of the hypothesis with inputs from x's compared to the actual output y's.\n",
    "\n",
    "$$J(\\theta_0, \\theta_1) = \\frac{1}{2m} \\sum_{i=1}^{m} (\\hat{y}_i - y_i)^2 = \\frac{1}{2m} \\sum_{i=1}^{m} ( h_\\theta(x_i) - y_i )^2$$\n",
    "\n",
    "This function is otherwise called the *squared error function* or *mean squared error*. The mean is halved ($\\frac{1}{2m}$) as a convenience for the computation of the gradient descent (as the derivative term will cancel out the $\\frac{1}{2}$ term).\n",
    "\n",
    "Now we can measure the accuracy of our predictor function.\n",
    "\n",
    "In visual terms: the training data is scattered on the x-y plane. We are trying to make a straight line which passes through the data. The best line would be such that the averaged squared vertical distances of the scattered points from the line will be the least. Thus the best case is $J(\\theta_0, \\theta_1)=0$, in which case the line pass through all data points."
   ]
  },
  {
   "cell_type": "code",
   "execution_count": 165,
   "metadata": {},
   "outputs": [
    {
     "data": {
      "image/png": "[encoded data removed]",
      "text/plain": [
       "<IPython.core.display.Image object>"
      ]
     },
     "metadata": {},
     "output_type": "display_data"
    }
   ],
   "source": [
    "function cost = J(theta, x, y)\n",
    "    m = length(y);\n",
    "    cost = sum((h(theta, x) - y).^2) / (2 * m);\n",
    "end\n",
    "\n",
    "tmp = zeros(50, 2);\n",
    "for i = 1:50\n",
    "    tmp(i, :) = [i - 25, J([2, i - 25], x, y)];\n",
    "end\n",
    "\n",
    "plot(tmp(:, 1), tmp(:, 2), \";J(theta);\");\n",
    "xlabel(\"theta_1\");\n",
    "ylabel(\"cost\");\n",
    "hold on;\n",
    "plot(theta(1), J(theta, x, y), \"rx;theta = [2 2];\");\n",
    "hold off;"
   ]
  },
  {
   "cell_type": "markdown",
   "metadata": {},
   "source": [
    "## Gradient Descent\n",
    "\n",
    "Looking at the graph of the cost function above, we can see that it is shaped like a bowl (it's *convex*). Our goal is to get to the bottom of the function, that is *minimize* $J(\\theta_0, \\theta_1)$.\n",
    "\n",
    "The way we move towards the bottom is taking the derivative, which gives us the slope of the (tangent of the) function at that point. Then we uses that slope and a learning rate $\\alpha$ to walk towards the bottom.\n",
    "\n",
    "We need to repeat the following until *convergence*:\n",
    "$$\\theta_j := \\theta_j - \\alpha \\frac{\\partial}{\\partial\\theta_j} J(\\theta_0, \\theta_1)$$\n",
    "\n",
    "Intuitively this can be thought of:\n",
    "\n",
    "$$\\theta_j := \\theta_j - \\alpha [\\text{slope}][\\text{slope}]$$\n",
    "\n",
    "### Gradient Descent for Linear Regression\n",
    "\n",
    "For linear regression we can derive a new form of the equation (substituting the actual cost function and hypothesis function and modifying the equation):\n",
    "\n",
    "Repeat until convergence:\n",
    "$$\n",
    "\\begin{align}\n",
    "    \\theta_0 & := \\theta_0 - \\alpha \\frac{1}{m} \\sum_{i=1}^{m} (h_\\theta(x_i) - y_i) \\\\\n",
    "    \\theta_1 & := \\theta_1 - \\alpha \\frac{1}{m} \\sum_{i=1}^{m} ((h_\\theta(x_i) - y_i)x_i)\n",
    "\\end{align}\n",
    "$$\n",
    "\n",
    "_Go read calculus to understand the derivation._"
   ]
  },
  {
   "cell_type": "code",
   "execution_count": 246,
   "metadata": {},
   "outputs": [
    {
     "data": {
      "image/png": "[encoded data removed]",
      "text/plain": [
       "<IPython.core.display.Image object>"
      ]
     },
     "metadata": {},
     "output_type": "display_data"
    }
   ],
   "source": [
    "function [theta, theta_history, J_history] = gradientDescent(theta, x, y, alpha, iterations)\n",
    "    m = length(y);\n",
    "    theta_history = zeros(iterations, 2);\n",
    "    J_history = zeros(iterations, 1);\n",
    "    for i = 1:iterations\n",
    "        theta_0 = theta(1) - (alpha / m) * sum(h(theta, x) - y);\n",
    "        theta_1 = theta(2) - (alpha / m) * sum((h(theta, x) - y) .* x);\n",
    "        theta = [ theta_0, theta_1 ];\n",
    "        theta_history(i, :) = theta;\n",
    "        J_history(i) = J(theta, x, y);\n",
    "    end\n",
    "end\n",
    "\n",
    "iterations = 1500;\n",
    "alpha = 0.01;\n",
    "[theta, theta_history, J_history] = gradientDescent([0, 0], x, y, alpha, iterations);\n",
    "\n",
    "subplot(1, 2, 1);\n",
    "plot(1:iterations, J_history);\n",
    "xlabel(\"iterations\");\n",
    "ylabel(\"cost\");\n",
    "\n",
    "subplot(1, 2, 2);\n",
    "plot(1:iterations, theta_history(:, 1), 'r;theta_0;');\n",
    "hold on;\n",
    "plot(1:iterations, theta_history(:, 2), 'g;theta_1;');\n",
    "hold off;\n",
    "xlabel(\"iterations\");\n",
    "ylabel(\"value\");"
   ]
  },
  {
   "cell_type": "code",
   "execution_count": 256,
   "metadata": {},
   "outputs": [
    {
     "data": {
      "image/png": "[encoded data removed]",
      "text/plain": [
       "<IPython.core.display.Image object>"
      ]
     },
     "metadata": {},
     "output_type": "display_data"
    }
   ],
   "source": [
    "plot(x, y, 'rx;data;');\n",
    "hold on;\n",
    "plot(x, h(theta, x, y), \";h_{theta}(x);\");\n",
    "xlabel(\"x\");\n",
    "ylabel(\"y\");"
   ]
  }
 ],
 "metadata": {
  "kernelspec": {
   "display_name": "Octave",
   "language": "octave",
   "name": "octave"
  },
  "language_info": {
   "file_extension": ".m",
   "help_links": [
    {
     "text": "GNU Octave",
     "url": "https://www.gnu.org/software/octave/support.html"
    },
    {
     "text": "Octave Kernel",
     "url": "https://github.com/Calysto/octave_kernel"
    },
    {
     "text": "MetaKernel Magics",
     "url": "https://github.com/calysto/metakernel/blob/master/metakernel/magics/README.md"
    }
   ],
   "mimetype": "text/x-octave",
   "name": "octave",
   "version": "4.0.3"
  }
 },
 "nbformat": 4,
 "nbformat_minor": 2
}
