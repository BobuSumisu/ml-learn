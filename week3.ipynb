{
 "cells": [
  {
   "cell_type": "markdown",
   "metadata": {},
   "source": [
    "# Week 3\n",
    "\n",
    "## Logistic Regression\n",
    "\n",
    "Switching from regression to *classification* problems. It is called logistic *regression* for historical reasons, but is actually an apporach to classification problems.\n",
    "\n",
    "## Binary Classification\n",
    "\n",
    "Instead of output $\\vec{y}$ being continuous range of values, it will only be 0 or 1.\n",
    "\n",
    "$$y \\in \\{ 0, 1 \\}$$\n",
    "\n",
    "Where $0$ usually denotes the \"negative class\" and $1$ the \"positive class\" (but this is arbitrary).\n",
    "\n",
    "One method is to use linear regression and map all predictions greater than 0.5 to 1, and all less than 0.5 to 0. This will not work well because classification is not actually a linear function.\n",
    "\n",
    "Our hypothesis should satisfy\n",
    "\n",
    "$$ 0 \\le h_\\theta(x) \\le 1 $$\n",
    "\n",
    "The sigmoid function (logistic function) is a great function to use here as it maps any real number to the (0, 1) interval:\n",
    "\n",
    "$$ g(z) = \\frac{1}{1 + e^{-z}} $$"
   ]
  },
  {
   "cell_type": "code",
   "execution_count": 20,
   "metadata": {},
   "outputs": [
    {
     "data": {
      "image/png": "[encoded data removed]",
      "text/plain": [
       "<IPython.core.display.Image object>"
      ]
     },
     "metadata": {},
     "output_type": "display_data"
    }
   ],
   "source": [
    "g = @(z) 1 ./ (1 + e.^-z);\n",
    "\n",
    "x = -10:10;\n",
    "plot(x, g(x));"
   ]
  },
  {
   "cell_type": "markdown",
   "metadata": {},
   "source": [
    "We see that if $z$ is zero, then $e^0 = 1$ so we get $g(0) = \\frac{1}{1 + 1} = \\frac{1}{2}$.\n",
    "\n",
    "If $z \\rightarrow \\infty$, then $e^{-\\infty} \\rightarrow 0$ so we get $g(\\infty) = \\frac{1}{1 + 0} = 1$.\n",
    "\n",
    "If $z \\rightarrow -\\infty$, then $e^{-\\infty} \\rightarrow \\infty$ so we get $g(-\\infty) = \\frac{1}{1 + \\infty} = 0$.\n",
    "\n",
    "We can get a new hypothesis function with values between 0 and 1 using $g(z)$:\n",
    "\n",
    "$$ h_\\theta(x) = g(\\theta^T x) $$\n",
    "\n",
    "Substituting the sigmoid function gives us\n",
    "\n",
    "$$ h_\\theta(x) = \\frac{1}{1 + e^{-(\\theta^T x)} } $$\n",
    "\n",
    "$h_\\theta(x)$ will give us the **probability** that our output is 1, thus\n",
    "\n",
    "$$ h_\\theta(x) = P(y = 1 \\rvert x;\\theta) $$\n",
    "\n",
    "Read as \"the probability that y is 1, given x and paramterized by theta\".\n",
    "\n",
    "## Decision Boundary\n",
    "\n",
    "In order to get discrete values, we can translate the output from the hypothesis function as:\n",
    "\n",
    "$$ h_\\theta(x) \\ge 0.5 \\rightarrow y = 1 \\\\ h_\\theta(x) \\lt 0.5 \\rightarrow y = 0$$\n",
    "\n",
    "Looking at the sigmoid function above we see that the output is above 0.5 when $z \\ge 0$.\n",
    "\n",
    "Thus we can see that \n",
    "\n",
    "$$ \\theta^T x \\ge 0 \\implies y = 1 \\\\ \\theta^T x \\lt 0 \\implies y = 0 $$\n",
    "\n",
    "The **decision boundary** is the the line that separates the area where y = 0 and where y = 1. It is created by our hypothesis function.\n",
    "\n",
    "Note: the input to the sigmoid function $g(z)$ (e.g. $\\theta^T X$) doesn't need to be linear, and could be a function that describes a circle ($z = \\theta_0 + \\theta_1x_1^2 + \\theta_2x_2^2$).\n",
    "\n",
    "## Cost Function\n",
    "\n",
    "We cannot use the same cost function as the logistic function will give a non convex cost function (many local optimal minima).\n",
    "\n",
    "Instead we use the following cost function:\n",
    "\n",
    "$$ J(\\theta) = \\frac{1}{m} \\sum_{i=1}^m Cost(h_\\theta(x^{(i)}), y^{(i)}) $$\n",
    "\n",
    "Where $Cost$ is\n",
    "\n",
    "$$ \\begin{align} Cost(h_\\theta(x), y) & = -\\log(h_\\theta(x)) \\text{, if } y = 1 \\\\ Cost(h_\\theta(x), y) & = -\\log(1 - h_\\theta(x)) \\text{, if } y = 0 \\end{align} $$"
   ]
  },
  {
   "cell_type": "code",
   "execution_count": 57,
   "metadata": {},
   "outputs": [
    {
     "data": {
      "image/png": "[encoded data removed]",
      "text/plain": [
       "<IPython.core.display.Image object>"
      ]
     },
     "metadata": {},
     "output_type": "display_data"
    }
   ],
   "source": [
    "x = 0.0:0.05:1.0;\n",
    "subplot(1, 2, 1);\n",
    "plot(x, -log(x));\n",
    "title('for y = 1');\n",
    "subplot(1, 2, 2);\n",
    "plot(x, -log(1 - x));\n",
    "title('for y = 0');"
   ]
  },
  {
   "cell_type": "markdown",
   "metadata": {},
   "source": [
    "We see that these are convex functions with value 0 at the correct output, and increases rapidly as we move away from the correct value.\n",
    "\n",
    "We can combine these two cases into a more compact form:\n",
    "\n",
    "$$ Cost(h_\\theta(x), y) = -y \\log(h_\\theta(x)) - (1 - y)\\log(1 - h_\\theta(x)) $$\n",
    "\n",
    "Note that when y = 1, the second term will be cancelled out, and when y = 0, the first term is cancelled out.\n",
    "\n",
    "We can now fully write out the cost function:\n",
    "\n",
    "$$ J(\\theta) = -\\frac{1}{m} \\sum_{i=1}^m [ y^{(i)} \\log (h_\\theta(x^{(i)})) + (1 - y^{(i)}) \\log(1 - h_\\theta(x^{(i)})) ] $$\n",
    "\n",
    "A vectorized version:\n",
    "\n",
    "$$ J(\\theta) = \\frac{1}{m} \\big( -y^T \\log(h) - (1 - y)^T \\log(1 - h) \\big) $$\n",
    "\n",
    "where $h = g(X\\theta)$."
   ]
  },
  {
   "cell_type": "code",
   "execution_count": 65,
   "metadata": {},
   "outputs": [],
   "source": [
    "function val = J(theta, X, y)\n",
    "    m = length(y);\n",
    "end"
   ]
  },
  {
   "cell_type": "markdown",
   "metadata": {},
   "source": [
    "## Gradient Descent\n",
    "\n",
    "Remember general form of gradient descent rule:\n",
    "\n",
    "$$ \\theta_j := \\theta_j - \\alpha \\frac{\\partial}{\\partial\\theta_j} J(\\theta) $$\n",
    "\n",
    "\"We\" can work out the derivative part using calculus to get:\n",
    "\n",
    "$$ \\theta_j := \\theta_j - \\frac{\\alpha}{m} \\sum_{i=1}^m (h_\\theta(x^{(i)}) - y^{(i)})x_j^{(i)} $$\n",
    "\n",
    "Note that this is same as with linear regression (but $h_\\theta(x)$ isn't the same).\n",
    "\n",
    "A vectorized implementation:\n",
    "\n",
    "$$ \\theta := \\theta - \\frac{\\alpha}{m} X^T (g(X\\theta) - \\vec{y}) $$"
   ]
  },
  {
   "cell_type": "code",
   "execution_count": null,
   "metadata": {},
   "outputs": [],
   "source": []
  },
  {
   "cell_type": "markdown",
   "metadata": {},
   "source": [
    "## Advanced Optimization\n",
    "\n",
    "More sophisticated (and faster) ways to optimize $\\theta$ instead of gradient descent:\n",
    "- Conjugate gradient\n",
    "- BFGS\n",
    "- L-BFGS\n",
    "\n",
    "These are faster and better, but more complicated (so you shouldn't try to implement them on your own).\n",
    "Octave provides them.\n",
    "\n",
    "To use them we first need to provide a function that calculates the cost and gradient (partial derivative) for a given input $\\theta$."
   ]
  },
  {
   "cell_type": "code",
   "execution_count": 63,
   "metadata": {},
   "outputs": [],
   "source": [
    "function [jVal, gradient] = costFunction(theta)\n",
    "    % jVal = [ code to compute J(theta) ]\n",
    "    % gradient = [ code to compute derivative of J(theta) ]\n",
    "end"
   ]
  },
  {
   "cell_type": "markdown",
   "metadata": {},
   "source": [
    "Next we use octave's `optimset()` to create an object containing the options we want to use.\n",
    "\n",
    "And finally call `fminunc()`."
   ]
  },
  {
   "cell_type": "code",
   "execution_count": 62,
   "metadata": {},
   "outputs": [
    {
     "name": "stdout",
     "output_type": "stream",
     "text": [
      "warning: costFunction: some elements in list of return values are undefined\n",
      "warning: called from\n",
      "    costFunction at line 4 column 1\n",
      "    fminunc at line 162 column 8\n",
      "warning: costFunction: some elements in list of return values are undefined\n",
      "theta =\n",
      "\n",
      "   0\n",
      "   0\n",
      "\n",
      "fVal = [](0x0)\n",
      "flag =  1\n"
     ]
    }
   ],
   "source": [
    "% GradObj is on since we will supply the gradient.\n",
    "options = optimset('GradObj', 'on', 'MaxIter', 100);\n",
    "\n",
    "initTheta = zeros(2, 1);\n",
    "\n",
    "[theta, fVal, flag] = fminunc(@costFunction, initTheta, options)"
   ]
  }
 ],
 "metadata": {
  "kernelspec": {
   "display_name": "Octave",
   "language": "octave",
   "name": "octave"
  },
  "language_info": {
   "file_extension": ".m",
   "help_links": [
    {
     "text": "GNU Octave",
     "url": "https://www.gnu.org/software/octave/support.html"
    },
    {
     "text": "Octave Kernel",
     "url": "https://github.com/Calysto/octave_kernel"
    },
    {
     "text": "MetaKernel Magics",
     "url": "https://github.com/calysto/metakernel/blob/master/metakernel/magics/README.md"
    }
   ],
   "mimetype": "text/x-octave",
   "name": "octave",
   "version": "4.0.3"
  }
 },
 "nbformat": 4,
 "nbformat_minor": 2
}
